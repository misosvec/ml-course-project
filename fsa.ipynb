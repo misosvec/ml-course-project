{
  "cells": [
    {
      "cell_type": "markdown",
      "metadata": {
        "id": "9sKPmLsa3FLQ"
      },
      "source": [
        "# ML final project"
      ]
    },
    {
      "cell_type": "markdown",
      "metadata": {
        "id": "nUwCQmQ03FLc"
      },
      "source": [
        "this is content from collab"
      ]
    }
  ],
  "metadata": {
    "language_info": {
      "name": "python"
    },
    "colab": {
      "provenance": [],
      "toc_visible": true
    },
    "kernelspec": {
      "name": "python3",
      "display_name": "Python 3"
    }
  },
  "nbformat": 4,
  "nbformat_minor": 0
}